{
 "cells": [
  {
   "cell_type": "code",
   "execution_count": 1,
   "metadata": {
    "collapsed": true
   },
   "outputs": [],
   "source": [
    "import numpy as np"
   ]
  },
  {
   "cell_type": "code",
   "execution_count": 46,
   "metadata": {},
   "outputs": [
    {
     "name": "stdout",
     "output_type": "stream",
     "text": [
      "[[ 0.99  0.98  0.97  0.96  0.95  0.94]\n",
      " [ 0.93  0.92  0.91  0.9   0.89  0.88]\n",
      " [ 0.87  0.86  0.85  0.84  0.83  0.82]\n",
      " [ 0.81  0.8   0.79  0.78  0.77  0.76]]\n"
     ]
    }
   ],
   "source": [
    "nums = np.array([ float(i) / 100 for i in range(1, 25)])\n",
    "nums = nums.reshape(4, 6)\n",
    "vals = 1 - nums\n",
    "print vals"
   ]
  },
  {
   "cell_type": "code",
   "execution_count": 32,
   "metadata": {},
   "outputs": [],
   "source": [
    "vals1 = np.prod(vals, axis = 0)"
   ]
  },
  {
   "cell_type": "code",
   "execution_count": 35,
   "metadata": {},
   "outputs": [
    {
     "name": "stdout",
     "output_type": "stream",
     "text": [
      "[ 0.35118271  0.3796992   0.40726695  0.4339072   0.45964095  0.48448896]\n"
     ]
    }
   ],
   "source": [
    "print 1 - vals1"
   ]
  },
  {
   "cell_type": "code",
   "execution_count": 31,
   "metadata": {},
   "outputs": [],
   "source": [
    "ps = []\n",
    "for j in range(6):\n",
    "    p = 1\n",
    "    for i in range(4):\n",
    "        p *= vals[i, j]\n",
    "    ps += p,"
   ]
  },
  {
   "cell_type": "code",
   "execution_count": 34,
   "metadata": {},
   "outputs": [
    {
     "name": "stdout",
     "output_type": "stream",
     "text": [
      "[ True  True  True  True  True  True]\n"
     ]
    }
   ],
   "source": [
    "print ps == vals1"
   ]
  },
  {
   "cell_type": "code",
   "execution_count": 41,
   "metadata": {
    "collapsed": true
   },
   "outputs": [],
   "source": [
    "vals= np.array([ 0.93251787,  0.99984275,  0.99571177,  0.89055819,  0.99998916,  1])"
   ]
  },
  {
   "cell_type": "code",
   "execution_count": 45,
   "metadata": {},
   "outputs": [
    {
     "data": {
      "text/plain": [
       "array([  1.17297385e-03,   9.84397992e-01,   6.51275195e-01,\n",
       "         1.76604832e-05,   9.98916587e-01,   1.00000000e+00])"
      ]
     },
     "execution_count": 45,
     "metadata": {},
     "output_type": "execute_result"
    }
   ],
   "source": [
    "np.exp(vals * 100) / np.exp(100)"
   ]
  },
  {
   "cell_type": "code",
   "execution_count": 47,
   "metadata": {
    "collapsed": true
   },
   "outputs": [],
   "source": [
    "nums = np.array([ float(i) / 100 for i in range(1, 25)])\n",
    "nums = nums.reshape(4, 6)"
   ]
  },
  {
   "cell_type": "code",
   "execution_count": 48,
   "metadata": {},
   "outputs": [
    {
     "name": "stdout",
     "output_type": "stream",
     "text": [
      "[[ 0.01  0.02  0.03  0.04  0.05  0.06]\n",
      " [ 0.07  0.08  0.09  0.1   0.11  0.12]\n",
      " [ 0.13  0.14  0.15  0.16  0.17  0.18]\n",
      " [ 0.19  0.2   0.21  0.22  0.23  0.24]]\n"
     ]
    }
   ],
   "source": [
    "print nums"
   ]
  },
  {
   "cell_type": "code",
   "execution_count": 51,
   "metadata": {},
   "outputs": [
    {
     "name": "stdout",
     "output_type": "stream",
     "text": [
      "[ 0.035  0.095  0.155  0.215]\n"
     ]
    }
   ],
   "source": [
    "print np.mean(nums, axis = 1)"
   ]
  },
  {
   "cell_type": "code",
   "execution_count": null,
   "metadata": {
    "collapsed": true
   },
   "outputs": [],
   "source": []
  }
 ],
 "metadata": {
  "kernelspec": {
   "display_name": "Python 2",
   "language": "python",
   "name": "python2"
  },
  "language_info": {
   "codemirror_mode": {
    "name": "ipython",
    "version": 2
   },
   "file_extension": ".py",
   "mimetype": "text/x-python",
   "name": "python",
   "nbconvert_exporter": "python",
   "pygments_lexer": "ipython2",
   "version": "2.7.13"
  }
 },
 "nbformat": 4,
 "nbformat_minor": 2
}
