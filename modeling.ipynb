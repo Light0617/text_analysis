{
 "cells": [
  {
   "cell_type": "code",
   "execution_count": 1,
   "metadata": {
    "collapsed": true
   },
   "outputs": [],
   "source": [
    "import findspark\n",
    "spark_path = '../../2016UCSD/255/spark-1.6.0-bin-hadoop2.6/'\n",
    "findspark.init(spark_path)\n",
    "from pyspark import SparkContext\n",
    "sc = SparkContext(master=\"local[3]\")\n"
   ]
  },
  {
   "cell_type": "code",
   "execution_count": 2,
   "metadata": {
    "collapsed": true
   },
   "outputs": [],
   "source": [
    "from get_features import *\n",
    "import os, pickle\n",
    "from sklearn import linear_model, datasets\n",
    "from lib import *\n",
    "path, domain = 'trained/', 'random70'\n",
    "#domain = '100'\n",
    "train_file = 'Data/%s/trainData' % (domain)\n",
    "test_file = 'Data/%s/testData' % (domain)\n",
    "\n",
    "pickled_trainX = '%strainX%s.pickle' % (path, domain)\n",
    "pickled_trainY = '%strainY%s.pickle' % (path, domain)\n",
    "pickled_testX = '%stestX%s.pickle' % (path, domain)\n",
    "pickled_testY = '%stestY%s.pickle' % (path, domain)"
   ]
  },
  {
   "cell_type": "code",
   "execution_count": 3,
   "metadata": {},
   "outputs": [
    {
     "name": "stderr",
     "output_type": "stream",
     "text": [
      "<ipython-input-3-4e841e63d2ac>:5: SyntaxWarning: assertion is always true, perhaps remove parentheses?\n",
      "  assert(len(text) == len(Y), \"we've got a problem\")\n",
      "<ipython-input-3-4e841e63d2ac>:9: SyntaxWarning: assertion is always true, perhaps remove parentheses?\n",
      "  assert(len(data) == len(Y), \"we've got a problem2\")\n"
     ]
    }
   ],
   "source": [
    "# def getData(infile):\n",
    "#     lines = [ line for line in open(infile, 'r').readlines()]\n",
    "#     text, Y = [line.split(',')[0] for line in lines], \\\n",
    "#                         [int(line.split(',')[1]) for line in lines]\n",
    "#     print len(text), len(Y)\n",
    "#     assert(len(text) == len(Y), \"we've got a problem\")\n",
    "#     wp = word_processor()\n",
    "#     rdd = sc.parallelize(text).map(lambda x: wp.get_features1(x))\n",
    "#     data = rdd.collect()\n",
    "#     assert(len(data) == len(Y), \"we've got a problem2\")\n",
    "#     return [data, Y]"
   ]
  },
  {
   "cell_type": "code",
   "execution_count": null,
   "metadata": {
    "collapsed": true
   },
   "outputs": [],
   "source": []
  },
  {
   "cell_type": "code",
   "execution_count": 3,
   "metadata": {
    "collapsed": true
   },
   "outputs": [],
   "source": [
    "if not os.path.exists(pickled_trainX) or not os.path.exists(pickled_trainY):\n",
    "    trainX, trainY = getData(train_file)\n",
    "    pickle.dump(trainX, open(pickled_trainX, 'w'))\n",
    "    pickle.dump(trainY, open(pickled_trainY, 'w'))\n",
    "else:\n",
    "    trainX = pickle.load(open(pickled_trainX, 'r'))\n",
    "    trainY = pickle.load(open(pickled_trainY, 'r'))"
   ]
  },
  {
   "cell_type": "code",
   "execution_count": 5,
   "metadata": {
    "collapsed": true,
    "scrolled": false
   },
   "outputs": [],
   "source": [
    "if not os.path.exists(pickled_testX) or not os.path.exists(pickled_testY):\n",
    "    testX, testY = getData(test_file)\n",
    "    pickle.dump(testX, open(pickled_testX, 'w'))\n",
    "    pickle.dump(testY, open(pickled_testY, 'w'))\n",
    "else:\n",
    "    testX = pickle.load(open(pickled_testX, 'r'))\n",
    "    testY = pickle.load(open(pickled_testY, 'r'))"
   ]
  },
  {
   "cell_type": "code",
   "execution_count": 6,
   "metadata": {},
   "outputs": [
    {
     "name": "stdout",
     "output_type": "stream",
     "text": [
      "(1400, 152) (1400,)\n",
      "train score, test score\n",
      "score =\n",
      "0.615714285714   score =\n",
      "0.615714285714\n"
     ]
    }
   ],
   "source": [
    "logistic = model1(trainX, trainY)\n",
    "print 'train score, test score'\n",
    "print evaluate(logistic, trainX, trainY), ' ', evaluate(logistic, testX, testY)"
   ]
  },
  {
   "cell_type": "code",
   "execution_count": 3,
   "metadata": {
    "collapsed": true
   },
   "outputs": [],
   "source": [
    "path, domain = '', 'random70_all'\n",
    "#domain = '100'\n",
    "train_file = 'Data/%s/trainData' % (domain)\n",
    "test_file = 'Data/%s/testData' % (domain)\n",
    "\n",
    "pickled_trainX = '%strainX%s.pickle' % (path, domain)\n",
    "pickled_trainY = '%strainY%s.pickle' % (path, domain)\n",
    "pickled_testX = '%stestX%s.pickle' % (path, domain)\n",
    "pickled_testY = '%stestY%s.pickle' % (path, domain)\n",
    "if not os.path.exists(pickled_trainX) or not os.path.exists(pickled_trainY):\n",
    "    trainX, trainY = getData(train_file)\n",
    "    pickle.dump(trainX, open(pickled_trainX, 'w'))\n",
    "    pickle.dump(trainY, open(pickled_trainY, 'w'))\n",
    "else:\n",
    "    trainX = pickle.load(open(pickled_trainX, 'r'))\n",
    "    trainY = pickle.load(open(pickled_trainY, 'r'))"
   ]
  },
  {
   "cell_type": "code",
   "execution_count": 4,
   "metadata": {
    "collapsed": true
   },
   "outputs": [],
   "source": [
    "if not os.path.exists(pickled_testX) or not os.path.exists(pickled_testY):\n",
    "    testX, testY = getData(test_file)\n",
    "    pickle.dump(testX, open(pickled_testX, 'w'))\n",
    "    pickle.dump(testY, open(pickled_testY, 'w'))\n",
    "else:\n",
    "    testX = pickle.load(open(pickled_testX, 'r'))\n",
    "    testY = pickle.load(open(pickled_testY, 'r'))"
   ]
  },
  {
   "cell_type": "code",
   "execution_count": 11,
   "metadata": {},
   "outputs": [
    {
     "name": "stdout",
     "output_type": "stream",
     "text": [
      "(8982, 165) (8982,)\n",
      "train score, test score\n",
      "0.591627699844   0.574324324324\n"
     ]
    }
   ],
   "source": [
    "logistic = model1(trainX, trainY, c = 10)\n",
    "print 'train score, test score'\n",
    "print evaluate(logistic, trainX, trainY), ' ', evaluate(logistic, testX, testY)"
   ]
  },
  {
   "cell_type": "code",
   "execution_count": 16,
   "metadata": {},
   "outputs": [
    {
     "name": "stdout",
     "output_type": "stream",
     "text": [
      "(1, 3)\n"
     ]
    }
   ],
   "source": [
    "nums = [1 ,2 ,3 ]\n",
    "v = np.array(nums)\n",
    "v = v.reshape(1, -1)\n",
    "print v.shape"
   ]
  },
  {
   "cell_type": "code",
   "execution_count": null,
   "metadata": {
    "collapsed": true
   },
   "outputs": [],
   "source": []
  }
 ],
 "metadata": {
  "anaconda-cloud": {},
  "kernelspec": {
   "display_name": "Python [conda env:py2]",
   "language": "python",
   "name": "conda-env-py2-py"
  },
  "language_info": {
   "codemirror_mode": {
    "name": "ipython",
    "version": 2
   },
   "file_extension": ".py",
   "mimetype": "text/x-python",
   "name": "python",
   "nbconvert_exporter": "python",
   "pygments_lexer": "ipython2",
   "version": "2.7.13"
  }
 },
 "nbformat": 4,
 "nbformat_minor": 2
}
